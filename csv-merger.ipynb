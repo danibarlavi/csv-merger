{
 "cells": [
  {
   "cell_type": "code",
   "execution_count": 1,
   "metadata": {},
   "outputs": [
    {
     "name": "stderr",
     "output_type": "stream",
     "text": [
      "C:\\Users\\danba\\AppData\\Local\\Temp\\ipykernel_5572\\3723303559.py:14: DtypeWarning: Columns (5) have mixed types. Specify dtype option on import or set low_memory=False.\n",
      "  df = pd.read_csv(os.path.join(directory, filename))\n",
      "C:\\Users\\danba\\AppData\\Local\\Temp\\ipykernel_5572\\3723303559.py:14: DtypeWarning: Columns (5,7) have mixed types. Specify dtype option on import or set low_memory=False.\n",
      "  df = pd.read_csv(os.path.join(directory, filename))\n",
      "C:\\Users\\danba\\AppData\\Local\\Temp\\ipykernel_5572\\3723303559.py:14: DtypeWarning: Columns (5,7) have mixed types. Specify dtype option on import or set low_memory=False.\n",
      "  df = pd.read_csv(os.path.join(directory, filename))\n",
      "C:\\Users\\danba\\AppData\\Local\\Temp\\ipykernel_5572\\3723303559.py:14: DtypeWarning: Columns (5,7) have mixed types. Specify dtype option on import or set low_memory=False.\n",
      "  df = pd.read_csv(os.path.join(directory, filename))\n",
      "C:\\Users\\danba\\AppData\\Local\\Temp\\ipykernel_5572\\3723303559.py:14: DtypeWarning: Columns (7) have mixed types. Specify dtype option on import or set low_memory=False.\n",
      "  df = pd.read_csv(os.path.join(directory, filename))\n",
      "C:\\Users\\danba\\AppData\\Local\\Temp\\ipykernel_5572\\3723303559.py:14: DtypeWarning: Columns (5,7) have mixed types. Specify dtype option on import or set low_memory=False.\n",
      "  df = pd.read_csv(os.path.join(directory, filename))\n",
      "C:\\Users\\danba\\AppData\\Local\\Temp\\ipykernel_5572\\3723303559.py:14: DtypeWarning: Columns (5,7) have mixed types. Specify dtype option on import or set low_memory=False.\n",
      "  df = pd.read_csv(os.path.join(directory, filename))\n",
      "C:\\Users\\danba\\AppData\\Local\\Temp\\ipykernel_5572\\3723303559.py:14: DtypeWarning: Columns (5,7) have mixed types. Specify dtype option on import or set low_memory=False.\n",
      "  df = pd.read_csv(os.path.join(directory, filename))\n"
     ]
    }
   ],
   "source": [
    "import pandas as pd\n",
    "import os\n",
    "\n",
    "# Navigate to the path containing CitiBike data \n",
    "directory = './data'\n",
    "\n",
    "# Create an empty list to hold the data frames scraped from the CitiBike csvs\n",
    "dfs = []\n",
    "\n",
    "# Loop through each csv to scrape data\n",
    "for filename in os.listdir(directory):\n",
    "    if filename.endswith('.csv'):\n",
    "        # Read CSV file and append dataframe to dfs list\n",
    "        df = pd.read_csv(os.path.join(directory, filename))\n",
    "        dfs.append(df)\n",
    "\n",
    "# Concatenate all dataframes into one\n",
    "merged_df = pd.concat(dfs, ignore_index=True)\n",
    "\n",
    "merged_df\n",
    "\n",
    "# Save merged dataframe to a new CSV file\n",
    "merged_df.to_csv('merged.csv', index=False)"
   ]
  }
 ],
 "metadata": {
  "kernelspec": {
   "display_name": "base",
   "language": "python",
   "name": "python3"
  },
  "language_info": {
   "codemirror_mode": {
    "name": "ipython",
    "version": 3
   },
   "file_extension": ".py",
   "mimetype": "text/x-python",
   "name": "python",
   "nbconvert_exporter": "python",
   "pygments_lexer": "ipython3",
   "version": "3.11.7"
  }
 },
 "nbformat": 4,
 "nbformat_minor": 2
}
